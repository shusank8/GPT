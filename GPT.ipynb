{
  "nbformat": 4,
  "nbformat_minor": 0,
  "metadata": {
    "colab": {
      "provenance": [],
      "authorship_tag": "ABX9TyM07/yh/UGf6EF8ad0C6pwm",
      "include_colab_link": true
    },
    "kernelspec": {
      "name": "python3",
      "display_name": "Python 3"
    },
    "language_info": {
      "name": "python"
    }
  },
  "cells": [
    {
      "cell_type": "markdown",
      "metadata": {
        "id": "view-in-github",
        "colab_type": "text"
      },
      "source": [
        "<a href=\"https://colab.research.google.com/github/shusank8/GPT/blob/main/GPT.ipynb\" target=\"_parent\"><img src=\"https://colab.research.google.com/assets/colab-badge.svg\" alt=\"Open In Colab\"/></a>"
      ]
    },
    {
      "cell_type": "code",
      "execution_count": null,
      "metadata": {
        "id": "g6n8d1KK7LN6",
        "colab": {
          "base_uri": "https://localhost:8080/"
        },
        "outputId": "7d63e5d8-edfa-47e1-d9f2-12f724b55972"
      },
      "outputs": [
        {
          "output_type": "stream",
          "name": "stdout",
          "text": [
            "GPT BY SHUSANKET BASYAL\n"
          ]
        }
      ],
      "source": [
        "print(\"GPT BY SHUSANKET BASYAL\")"
      ]
    },
    {
      "cell_type": "code",
      "source": [
        "# GPT BASICS USING SIMPLE NUMBERS"
      ],
      "metadata": {
        "id": "avl_4GRk7tsD"
      },
      "execution_count": null,
      "outputs": []
    },
    {
      "cell_type": "code",
      "source": [
        "import torch\n",
        "import torch.nn as nn\n",
        "from torch.nn import functional as F"
      ],
      "metadata": {
        "id": "TLUbpHr57zOL"
      },
      "execution_count": null,
      "outputs": []
    },
    {
      "cell_type": "code",
      "source": [
        "B,T,C = 4,8,2\n",
        "x = torch.randn(B,T,C)"
      ],
      "metadata": {
        "id": "_ly_woCZ7v2p"
      },
      "execution_count": null,
      "outputs": []
    },
    {
      "cell_type": "code",
      "source": [
        "wei = torch.tril(torch.ones(T,T))\n",
        "wei = wei/torch.sum(wei,1, keepdim=True)\n",
        "      # (T,T) @ (B,T,C)=>(B,T,C)\n",
        "out  = wei @ x"
      ],
      "metadata": {
        "id": "0TT5RO4gf731"
      },
      "execution_count": null,
      "outputs": []
    },
    {
      "cell_type": "code",
      "source": [
        "wei"
      ],
      "metadata": {
        "colab": {
          "base_uri": "https://localhost:8080/"
        },
        "id": "JbHkvJgZyRUQ",
        "outputId": "e8bf45d1-97e2-490a-ab43-ced3203c60ad"
      },
      "execution_count": null,
      "outputs": [
        {
          "output_type": "execute_result",
          "data": {
            "text/plain": [
              "tensor([[1.0000, 0.0000, 0.0000, 0.0000, 0.0000, 0.0000, 0.0000, 0.0000],\n",
              "        [0.5000, 0.5000, 0.0000, 0.0000, 0.0000, 0.0000, 0.0000, 0.0000],\n",
              "        [0.3333, 0.3333, 0.3333, 0.0000, 0.0000, 0.0000, 0.0000, 0.0000],\n",
              "        [0.2500, 0.2500, 0.2500, 0.2500, 0.0000, 0.0000, 0.0000, 0.0000],\n",
              "        [0.2000, 0.2000, 0.2000, 0.2000, 0.2000, 0.0000, 0.0000, 0.0000],\n",
              "        [0.1667, 0.1667, 0.1667, 0.1667, 0.1667, 0.1667, 0.0000, 0.0000],\n",
              "        [0.1429, 0.1429, 0.1429, 0.1429, 0.1429, 0.1429, 0.1429, 0.0000],\n",
              "        [0.1250, 0.1250, 0.1250, 0.1250, 0.1250, 0.1250, 0.1250, 0.1250]])"
            ]
          },
          "metadata": {},
          "execution_count": 73
        }
      ]
    },
    {
      "cell_type": "code",
      "source": [
        "x[0]"
      ],
      "metadata": {
        "id": "w8b8zbsuyUeQ",
        "outputId": "a124a699-2476-4a20-ca62-a08fbd8540cd",
        "colab": {
          "base_uri": "https://localhost:8080/"
        }
      },
      "execution_count": null,
      "outputs": [
        {
          "output_type": "execute_result",
          "data": {
            "text/plain": [
              "tensor([[ 0.8135,  0.1395],\n",
              "        [ 0.8426, -0.7039],\n",
              "        [-0.2040,  0.8776],\n",
              "        [-1.1508,  1.3973],\n",
              "        [-2.3654, -1.1355],\n",
              "        [ 2.1224, -0.6362],\n",
              "        [ 0.2226,  0.7333],\n",
              "        [ 1.6990, -0.0056]])"
            ]
          },
          "metadata": {},
          "execution_count": 76
        }
      ]
    },
    {
      "cell_type": "code",
      "source": [
        "out[0]"
      ],
      "metadata": {
        "colab": {
          "base_uri": "https://localhost:8080/"
        },
        "id": "MFipixPOySam",
        "outputId": "2c8a6dd4-dbf2-4d52-dd51-c1801f175ab7"
      },
      "execution_count": null,
      "outputs": [
        {
          "output_type": "execute_result",
          "data": {
            "text/plain": [
              "tensor([[ 0.8135,  0.1395],\n",
              "        [ 0.8281, -0.2822],\n",
              "        [ 0.4840,  0.1044],\n",
              "        [ 0.0753,  0.4276],\n",
              "        [-0.4128,  0.1150],\n",
              "        [ 0.0097, -0.0102],\n",
              "        [ 0.0401,  0.0960],\n",
              "        [ 0.2475,  0.0833]])"
            ]
          },
          "metadata": {},
          "execution_count": 77
        }
      ]
    },
    {
      "cell_type": "code",
      "source": [
        "\n",
        "tril = torch.tril(torch.ones(T,T))\n",
        "wei = torch.zeros((T,T))\n",
        "wei1 = wei.masked_fill(tril==0, float(\"-inf\"))\n",
        "wei2 = F.softmax(wei1, dim=1)"
      ],
      "metadata": {
        "id": "ZyAJ-rwGgpJh"
      },
      "execution_count": null,
      "outputs": []
    },
    {
      "cell_type": "code",
      "source": [
        "wei[3]"
      ],
      "metadata": {
        "colab": {
          "base_uri": "https://localhost:8080/"
        },
        "id": "oG4Vxd8XudbW",
        "outputId": "a772ccef-0194-4b58-9835-6a66d612d422"
      },
      "execution_count": null,
      "outputs": [
        {
          "output_type": "execute_result",
          "data": {
            "text/plain": [
              "tensor([0., 0., 0., 0., 0., 0., 0., 0.])"
            ]
          },
          "metadata": {},
          "execution_count": 35
        }
      ]
    },
    {
      "cell_type": "code",
      "source": [
        "wei1[3]"
      ],
      "metadata": {
        "colab": {
          "base_uri": "https://localhost:8080/"
        },
        "id": "UHzt_b9Suh7r",
        "outputId": "c6744be0-f96a-4d38-e4ea-33201e61e5a4"
      },
      "execution_count": null,
      "outputs": [
        {
          "output_type": "execute_result",
          "data": {
            "text/plain": [
              "tensor([0., 0., 0., 0., -inf, -inf, -inf, -inf])"
            ]
          },
          "metadata": {},
          "execution_count": 36
        }
      ]
    },
    {
      "cell_type": "code",
      "source": [
        "wei2[3]"
      ],
      "metadata": {
        "colab": {
          "base_uri": "https://localhost:8080/"
        },
        "id": "Ks7YGkl8ujQL",
        "outputId": "14905bbd-bb9d-4f24-f7c3-020041d7cac6"
      },
      "execution_count": null,
      "outputs": [
        {
          "output_type": "execute_result",
          "data": {
            "text/plain": [
              "tensor([0.2500, 0.2500, 0.2500, 0.2500, 0.0000, 0.0000, 0.0000, 0.0000])"
            ]
          },
          "metadata": {},
          "execution_count": 37
        }
      ]
    },
    {
      "cell_type": "code",
      "source": [
        "wei1[3].exp()/wei1[3].exp().sum()"
      ],
      "metadata": {
        "colab": {
          "base_uri": "https://localhost:8080/"
        },
        "id": "cOTew3twukOV",
        "outputId": "300e5cce-02e7-4a7c-81cd-03ee6efcb216"
      },
      "execution_count": null,
      "outputs": [
        {
          "output_type": "execute_result",
          "data": {
            "text/plain": [
              "tensor([0.2500, 0.2500, 0.2500, 0.2500, 0.0000, 0.0000, 0.0000, 0.0000])"
            ]
          },
          "metadata": {},
          "execution_count": 38
        }
      ]
    },
    {
      "cell_type": "code",
      "source": [
        "# self-attention\n",
        "\n",
        "\n",
        "# single head of self attention\n",
        "head_size = 16\n",
        "key = nn.Linear(C, head_size, bias = False)\n",
        "query = nn.Linear(C, head_size, bias = False)\n",
        "# x=>(B,T,C) AND K => (B,T,HEAD_SIZE)\n",
        "k = key(x)\n",
        "# x=>(B,T,C) AND K => (B,T,HEAD_SIZE)\n",
        "q = query(x)\n",
        "\n",
        "# (q = > (B,T,HEADSIZE) @ K.TRANSPOSE=> (B,HEADSIZE, T))=>(B,T,T)\n",
        "wei11 = q @k.transpose(-2,-1)\n",
        "\n",
        "\n",
        "tril = torch.tril(torch.ones(T,T))\n",
        "\n",
        "wei21 = wei11.masked_fill(tril==0, float(\"-inf\"))\n",
        "\n",
        "wei31 = F.softmax(wei21, dim=-1)\n",
        "# out = wei@x\n"
      ],
      "metadata": {
        "id": "g9fqfWwMjD4E"
      },
      "execution_count": null,
      "outputs": []
    },
    {
      "cell_type": "code",
      "source": [
        "wei11.shape"
      ],
      "metadata": {
        "colab": {
          "base_uri": "https://localhost:8080/"
        },
        "id": "FLFgIXPpvWSP",
        "outputId": "3dd7aa78-fbde-4020-8e5c-5e30f2de1e81"
      },
      "execution_count": null,
      "outputs": [
        {
          "output_type": "execute_result",
          "data": {
            "text/plain": [
              "torch.Size([4, 8, 8])"
            ]
          },
          "metadata": {},
          "execution_count": 60
        }
      ]
    },
    {
      "cell_type": "code",
      "source": [
        "wei11[0][3]"
      ],
      "metadata": {
        "colab": {
          "base_uri": "https://localhost:8080/"
        },
        "id": "ASTBj_lHxfZE",
        "outputId": "0e3fff5a-4e79-4c54-8a28-d17a0dca0981"
      },
      "execution_count": null,
      "outputs": [
        {
          "output_type": "execute_result",
          "data": {
            "text/plain": [
              "tensor([ 0.1093,  0.0458,  0.0357, -0.0044, -0.0587, -0.0421,  0.0445,  0.0540],\n",
              "       grad_fn=<SelectBackward0>)"
            ]
          },
          "metadata": {},
          "execution_count": 61
        }
      ]
    },
    {
      "cell_type": "code",
      "source": [
        "wei21[0][3]"
      ],
      "metadata": {
        "colab": {
          "base_uri": "https://localhost:8080/"
        },
        "id": "sC59OAO7vyYg",
        "outputId": "ab264096-36e1-40ac-b783-a6f2c9085b24"
      },
      "execution_count": null,
      "outputs": [
        {
          "output_type": "execute_result",
          "data": {
            "text/plain": [
              "tensor([ 0.1093,  0.0458,  0.0357, -0.0044,    -inf,    -inf,    -inf,    -inf],\n",
              "       grad_fn=<SelectBackward0>)"
            ]
          },
          "metadata": {},
          "execution_count": 62
        }
      ]
    },
    {
      "cell_type": "code",
      "source": [
        "wei31[0][3]"
      ],
      "metadata": {
        "colab": {
          "base_uri": "https://localhost:8080/"
        },
        "id": "F5eGIoU2v0lQ",
        "outputId": "efe798ef-e945-4a3a-eb6a-c8e9388322d4"
      },
      "execution_count": null,
      "outputs": [
        {
          "output_type": "execute_result",
          "data": {
            "text/plain": [
              "tensor([0.2660, 0.2496, 0.2471, 0.2374, 0.0000, 0.0000, 0.0000, 0.0000],\n",
              "       grad_fn=<SelectBackward0>)"
            ]
          },
          "metadata": {},
          "execution_count": 63
        }
      ]
    },
    {
      "cell_type": "code",
      "source": [
        "wei31.shape, x.shape"
      ],
      "metadata": {
        "colab": {
          "base_uri": "https://localhost:8080/"
        },
        "id": "qy67TwgJv2ir",
        "outputId": "183aa677-7fb1-4ca3-9fc5-f85bf99ddd10"
      },
      "execution_count": null,
      "outputs": [
        {
          "output_type": "execute_result",
          "data": {
            "text/plain": [
              "(torch.Size([4, 8, 8]), torch.Size([4, 8, 2]))"
            ]
          },
          "metadata": {},
          "execution_count": 65
        }
      ]
    },
    {
      "cell_type": "code",
      "source": [
        "wei31[0]"
      ],
      "metadata": {
        "colab": {
          "base_uri": "https://localhost:8080/"
        },
        "id": "vLZXIisZxtpw",
        "outputId": "dd93e020-1900-46d4-8e55-61b4275d4a4a"
      },
      "execution_count": null,
      "outputs": [
        {
          "output_type": "execute_result",
          "data": {
            "text/plain": [
              "tensor([[1.0000, 0.0000, 0.0000, 0.0000, 0.0000, 0.0000, 0.0000, 0.0000],\n",
              "        [0.4601, 0.5399, 0.0000, 0.0000, 0.0000, 0.0000, 0.0000, 0.0000],\n",
              "        [0.2708, 0.3384, 0.3908, 0.0000, 0.0000, 0.0000, 0.0000, 0.0000],\n",
              "        [0.2660, 0.2496, 0.2471, 0.2374, 0.0000, 0.0000, 0.0000, 0.0000],\n",
              "        [0.1241, 0.0993, 0.0760, 0.2435, 0.4572, 0.0000, 0.0000, 0.0000],\n",
              "        [0.0999, 0.0888, 0.0727, 0.1878, 0.3231, 0.2277, 0.0000, 0.0000],\n",
              "        [0.1291, 0.1673, 0.2010, 0.1060, 0.0799, 0.1006, 0.2161, 0.0000],\n",
              "        [0.1203, 0.1476, 0.1886, 0.0645, 0.0361, 0.0535, 0.2155, 0.1739]],\n",
              "       grad_fn=<SelectBackward0>)"
            ]
          },
          "metadata": {},
          "execution_count": 66
        }
      ]
    },
    {
      "cell_type": "code",
      "source": [
        "x[0]"
      ],
      "metadata": {
        "colab": {
          "base_uri": "https://localhost:8080/"
        },
        "id": "AaIgwMSzx0a_",
        "outputId": "1165fcb8-f4e5-46fb-8e3a-dac7730fdd05"
      },
      "execution_count": null,
      "outputs": [
        {
          "output_type": "execute_result",
          "data": {
            "text/plain": [
              "tensor([[ 1.3195, -1.2473],\n",
              "        [ 1.0026,  0.3587],\n",
              "        [ 1.1769,  1.0539],\n",
              "        [-0.2901, -0.4149],\n",
              "        [-1.3584, -0.6015],\n",
              "        [-0.8044, -0.0989],\n",
              "        [ 1.3915,  1.1649],\n",
              "        [ 1.2447,  0.5451]])"
            ]
          },
          "metadata": {},
          "execution_count": 67
        }
      ]
    },
    {
      "cell_type": "code",
      "source": [],
      "metadata": {
        "id": "BnYySP8Rx1bP"
      },
      "execution_count": null,
      "outputs": []
    }
  ]
}