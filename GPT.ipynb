{
  "nbformat": 4,
  "nbformat_minor": 0,
  "metadata": {
    "colab": {
      "provenance": [],
      "gpuType": "T4",
      "authorship_tag": "ABX9TyOIgVyHmE2Rl+LBL/IZ/vS5",
      "include_colab_link": true
    },
    "kernelspec": {
      "name": "python3",
      "display_name": "Python 3"
    },
    "language_info": {
      "name": "python"
    },
    "accelerator": "GPU"
  },
  "cells": [
    {
      "cell_type": "markdown",
      "metadata": {
        "id": "view-in-github",
        "colab_type": "text"
      },
      "source": [
        "<a href=\"https://colab.research.google.com/github/shusank8/GPT/blob/main/GPT.ipynb\" target=\"_parent\"><img src=\"https://colab.research.google.com/assets/colab-badge.svg\" alt=\"Open In Colab\"/></a>"
      ]
    },
    {
      "cell_type": "code",
      "execution_count": 1,
      "metadata": {
        "id": "g6n8d1KK7LN6",
        "colab": {
          "base_uri": "https://localhost:8080/"
        },
        "outputId": "3ff3161b-5669-4e49-ed99-313b8bb72c96"
      },
      "outputs": [
        {
          "output_type": "stream",
          "name": "stdout",
          "text": [
            "GPT BY SHUSANKET BASYAL\n"
          ]
        }
      ],
      "source": [
        "print(\"GPT BY SHUSANKET BASYAL\")"
      ]
    },
    {
      "cell_type": "code",
      "source": [
        "# GPT BASICS USING SIMPLE NUMBERS"
      ],
      "metadata": {
        "id": "avl_4GRk7tsD"
      },
      "execution_count": 2,
      "outputs": []
    },
    {
      "cell_type": "code",
      "source": [
        "import torch\n",
        "import torch.nn as nn\n",
        "from torch.nn import functional as F"
      ],
      "metadata": {
        "id": "TLUbpHr57zOL"
      },
      "execution_count": 3,
      "outputs": []
    },
    {
      "cell_type": "code",
      "source": [
        "# LOADING THE DATASET\n",
        "# DATASET IS THE SHORT JOKES FROM KAGGLE\n",
        "import kagglehub\n",
        "path = kagglehub.dataset_download(\"abhinavmoudgil95/short-jokes\")\n",
        "\n",
        "print(\"Path to dataset files:\", path)"
      ],
      "metadata": {
        "id": "C-e5TjAmfJq7",
        "colab": {
          "base_uri": "https://localhost:8080/"
        },
        "outputId": "7c1eec23-0db2-469e-e620-15fe0019e707"
      },
      "execution_count": 4,
      "outputs": [
        {
          "output_type": "stream",
          "name": "stdout",
          "text": [
            "Warning: Looks like you're using an outdated `kagglehub` version (installed: 0.3.6), please consider upgrading to the latest version (0.3.7).\n",
            "Path to dataset files: /root/.cache/kagglehub/datasets/abhinavmoudgil95/short-jokes/versions/1\n"
          ]
        }
      ]
    },
    {
      "cell_type": "code",
      "source": [
        "# IMPORTING THE NECESSARY LIBARIES\n",
        "\n",
        "import os\n",
        "import pandas as pd\n",
        "import torch\n",
        "import torch.nn as nn\n",
        "from torch.nn import functional as F"
      ],
      "metadata": {
        "id": "veopOieoGi4W"
      },
      "execution_count": 5,
      "outputs": []
    },
    {
      "cell_type": "code",
      "source": [
        "# LOOKING WHERE THE FILES HAS BEEN DOWNLOADED\n",
        "os.listdir(path)"
      ],
      "metadata": {
        "id": "td88Jd1OGj65",
        "colab": {
          "base_uri": "https://localhost:8080/"
        },
        "outputId": "bf86c39a-f344-42ee-8172-ac7fc2e4ad9e"
      },
      "execution_count": 6,
      "outputs": [
        {
          "output_type": "execute_result",
          "data": {
            "text/plain": [
              "['shortjokes.csv']"
            ]
          },
          "metadata": {},
          "execution_count": 6
        }
      ]
    },
    {
      "cell_type": "code",
      "source": [
        "# LOADING THE FILE INTO DF\n",
        "df = pd.read_csv(path+\"/shortjokes.csv\")\n",
        "# GETTING ALL THE VALUES IN JOKE COLUMN => RETURNS A LIST\n",
        "text = df['Joke'].values\n",
        "# JOINING ALL THE STR VAL IN THE LIST TO GET A SINGLE STR\n",
        "text = \"\".join(text)\n",
        "# GETTING THE UNIQUE CHAR PRESENT IN THE DATASET AND CREATING A VARIABLE VOCAB_SIZE THAT STORES THE LEN OF THE UNIQUE ELEMENTS\n",
        "char = sorted(list(set(text)))\n",
        "vocab_size = len(char)\n",
        "# SIMPLE ENCODER, DECODER\n",
        "# CREATING A HASMAP THAT MAPS STRING TO ID AND VICE VERSA\n",
        "stringtoid = {sti:i for i,sti in enumerate(char)}\n",
        "idtostring = {i:sti for i, sti in enumerate(char)}\n",
        "# USING THE CREATED HASMAP TO CREATER ENCODER AND DECODER\n",
        "encode = lambda x : [stringtoid[i] for i in x]\n",
        "decode = lambda x: \"\".join([idtostring[i] for i in x])\n",
        "# ENCODING THE TEXT\n",
        "text = torch.tensor(encode(text), dtype=torch.long)\n",
        "# CREATING TRAIN AND VAL SIZE\n",
        "n = int(0.8*len(text))\n",
        "train = text[0:n]\n",
        "val = text[n:]"
      ],
      "metadata": {
        "id": "n6lA-aQ_Gn_l"
      },
      "execution_count": 7,
      "outputs": []
    },
    {
      "cell_type": "code",
      "source": [
        "# This function creates batches of data for training or validation.\n",
        "# It selects random starting points, extracts sequences of a given length (block_size), and prepares input (x) and target (y) tensors for a model.\n",
        "\n",
        "def generate_batch(split, batch_size, block_size):\n",
        "  data = train if split =='train' else val\n",
        "  idx = torch.randint(0, len(data)-block_size, (batch_size, ))\n",
        "  x = torch.stack([data[i:i+block_size] for i in idx])\n",
        "  y = torch.stack([data[i+1:i+1+block_size] for i in idx])\n",
        "  return x,y\n"
      ],
      "metadata": {
        "id": "SQvSLjZ_GpIA"
      },
      "execution_count": 8,
      "outputs": []
    },
    {
      "cell_type": "code",
      "source": [
        "# This function estimates the model's loss on the validation set by running 64 mini-batches through it.\n",
        "# It calculates cross-entropy loss for each batch and returns the average loss, temporarily switching the model to evaluation mode for accurate assessment.\n",
        "\n",
        "def estimate_loss(model, vocab_size, batch_size, block_size):\n",
        "\n",
        "  model.eval()\n",
        "\n",
        "  losses = torch.zeros(64)\n",
        "  for _ in range(64):\n",
        "    x,y = generate_batch('val', batch_size, block_size)\n",
        "    x = x.to('cuda')\n",
        "    y = y.to('cuda')\n",
        "    logits = model(x)\n",
        "    logits = logits.reshape(-1, vocab_size)\n",
        "    y = y.view(-1)\n",
        "    loss = F.cross_entropy(logits, y)\n",
        "    losses[_] = loss.item()\n",
        "  model.train()\n",
        "  return losses.mean()\n"
      ],
      "metadata": {
        "id": "D_aP8LVEGqMR"
      },
      "execution_count": 9,
      "outputs": []
    },
    {
      "cell_type": "code",
      "source": [
        "# global_variables\n",
        "\n",
        "block_size = 8\n",
        "batch_size = 32\n",
        "epoch = 1000\n",
        "embdim = 32\n",
        "no_of_head = 4\n",
        "head_dim = embdim//no_of_head\n",
        "device = 'cuda'\n",
        "\n"
      ],
      "metadata": {
        "id": "QbaoFD8hIFGU"
      },
      "execution_count": 10,
      "outputs": []
    },
    {
      "cell_type": "code",
      "source": [
        "class Head(nn.Module):\n",
        "  def __init__(self):\n",
        "    super().__init__()\n",
        "    self.query = nn.Linear(embdim, head_dim, bias = False)\n",
        "    self.key = nn.Linear(embdim, head_dim, bias = False)\n",
        "    self.value = nn.Linear(embdim, head_dim, bias = False)\n",
        "    self.register_buffer(\"tril\", torch.tril(torch.ones(block_size, block_size)))\n",
        "\n",
        "  def forward(self, x):\n",
        "    B,T,C = x.shape\n",
        "    q = self.query(x)\n",
        "    k = self.key(x)\n",
        "    v = self.value(x)\n",
        "    wei = q@k.transpose(-2,-1)\n",
        "\n",
        "    wei = wei.masked_fill(self.tril[:T, :T]==0, float(\"-inf\"))\n",
        "    wei = F.softmax(wei, dim=-1)\n",
        "    v = self.value(x)\n",
        "    out = wei@v\n",
        "\n",
        "    return out\n"
      ],
      "metadata": {
        "id": "7m436knwKGfF"
      },
      "execution_count": 11,
      "outputs": []
    },
    {
      "cell_type": "code",
      "source": [
        "class MultiHeadAttention(nn.Module):\n",
        "\n",
        "  def __init__(self):\n",
        "    super().__init__()\n",
        "    self.heads = nn.ModuleList([Head() for _ in range(no_of_head)])\n",
        "\n",
        "  def forward(self, x):\n",
        "    return torch.cat([h(x) for h in self.heads], dim=-1 )\n"
      ],
      "metadata": {
        "id": "V-_jpLOkOk7L"
      },
      "execution_count": 12,
      "outputs": []
    },
    {
      "cell_type": "code",
      "source": [
        "class GPT(nn.Module):\n",
        "\n",
        "  def __init__(self):\n",
        "    super().__init__()\n",
        "    self.embeddings = nn.Embedding(vocab_size, embdim)\n",
        "    self.positionalEmbeddings = nn.Embedding(block_size, embdim)\n",
        "    self.sa_heads = MultiHeadAttention()\n",
        "    self.lm_head = nn.Linear(embdim, vocab_size)\n",
        "\n",
        "  def forward(self, x):\n",
        "    # x shape => (B,T)\n",
        "    tok_emb = self.embeddings(x)\n",
        "    B,T,C = tok_emb.shape\n",
        "    # x shape => (B,T,C)\n",
        "    pos_emb = self.positionalEmbeddings(torch.arange(T, device = device))\n",
        "    x = tok_emb+pos_emb\n",
        "    x = self.sa_heads(x)\n",
        "    x = self.lm_head(x)\n",
        "    return x"
      ],
      "metadata": {
        "id": "FdbBbWfFGrSQ"
      },
      "execution_count": 13,
      "outputs": []
    },
    {
      "cell_type": "code",
      "source": [
        "model = GPT()\n",
        "for p in model.parameters():\n",
        "  if p.dim()>=2:\n",
        "    torch.nn.init.xavier_uniform_(p)\n",
        "model = model.to(device)\n",
        "optimizer = torch.optim.AdamW(model.parameters(), lr = 1e-4)"
      ],
      "metadata": {
        "id": "x7SjkgCAJMLd"
      },
      "execution_count": 14,
      "outputs": []
    },
    {
      "cell_type": "code",
      "source": [
        "# This function trains the GPT for a given number of epochs.\n",
        "# It generates training batches, computes the loss using cross-entropy, updates the model’s weights using backpropagation, and periodically estimates and\n",
        "# prints the validation loss every 10 epochs.\n",
        "\n",
        "\n",
        "def train_model(epochs, batch_size):\n",
        "  for _ in range(epochs):\n",
        "    x,y = generate_batch('train', batch_size = batch_size, block_size=block_size)\n",
        "    x = x.to('cuda')\n",
        "    y = y.to(\"cuda\")\n",
        "    logits = model(x)\n",
        "    logits = logits.view(-1, vocab_size)\n",
        "    y = y.view(-1)\n",
        "    loss = F.cross_entropy(logits, y)\n",
        "    optimizer.zero_grad(set_to_none=True)\n",
        "    loss.backward()\n",
        "    optimizer.step()\n",
        "    if _ % 100==0:\n",
        "      lo = estimate_loss(model, vocab_size, batch_size, block_size)\n",
        "      print(lo.item())"
      ],
      "metadata": {
        "id": "ZxASC8RMJfEN"
      },
      "execution_count": 15,
      "outputs": []
    },
    {
      "cell_type": "code",
      "source": [
        "train_model(epoch, batch_size)"
      ],
      "metadata": {
        "colab": {
          "base_uri": "https://localhost:8080/"
        },
        "id": "UGy-7WzTMvby",
        "outputId": "1ce1ecb5-8076-454e-847b-b798d43b4098"
      },
      "execution_count": 38,
      "outputs": [
        {
          "output_type": "stream",
          "name": "stdout",
          "text": [
            "2.618032693862915\n",
            "2.6240572929382324\n",
            "2.6211674213409424\n",
            "2.640676736831665\n",
            "2.618022918701172\n",
            "2.616743803024292\n",
            "2.64237117767334\n",
            "2.595254898071289\n",
            "2.6350457668304443\n",
            "2.634610176086426\n"
          ]
        }
      ]
    },
    {
      "cell_type": "code",
      "source": [
        "# This function generates tokens using the trained model.\n",
        "# Starting from a given input, it predicts the next token, samples from the probability distribution, appends it to the sequence,\n",
        "# and continues for max_tok steps without updating gradients.\n",
        "\n",
        "def generatetok(model, start, max_tok):\n",
        "  with torch.no_grad():\n",
        "    for _ in range(max_tok):\n",
        "      starti = start[:, -block_size:]\n",
        "      logits = model(starti)\n",
        "      prob = logits[:,-1,:]\n",
        "      prob = F.softmax(prob, dim=-1)\n",
        "      lo = torch.multinomial(prob, num_samples=1)\n",
        "      start = torch.cat([start, lo], dim=1)\n",
        "  return start\n"
      ],
      "metadata": {
        "id": "7dCk50WZYhYd"
      },
      "execution_count": 41,
      "outputs": []
    },
    {
      "cell_type": "code",
      "source": [
        "import os\n",
        "# os.environ['CUDA_LAUNCH_BLOCKING'] = '1'\n",
        "# INITIALIZING THE START AS 0\n",
        "start = torch.zeros([1,1], device='cuda',dtype=torch.long)"
      ],
      "metadata": {
        "id": "acGdyKe8YjB1"
      },
      "execution_count": 42,
      "outputs": []
    },
    {
      "cell_type": "code",
      "source": [
        "# GENERATING FROM THE MODEL\n",
        "out = generatetok(model, start, 200)"
      ],
      "metadata": {
        "id": "qKdAirD4Yjds"
      },
      "execution_count": 43,
      "outputs": []
    },
    {
      "cell_type": "code",
      "source": [
        "# output\n",
        "decode(out[0].tolist())"
      ],
      "metadata": {
        "colab": {
          "base_uri": "https://localhost:8080/",
          "height": 53
        },
        "id": "dcH6G22cYlrB",
        "outputId": "f716b62c-0711-43be-df5c-587428542c8e"
      },
      "execution_count": 44,
      "outputs": [
        {
          "output_type": "execute_result",
          "data": {
            "text/plain": [
              "\"\\x08g.Jime? Ze tad mallleot whe rotar'd thy erkp-at all Fool's: fes, DHougmee's whalt uit hlke ndd tos therad M: Yata worretan swosOvicontgereld, N.Aat mad houlge sir tad yige son'n yapee ff'tk ot pehir:?\""
            ],
            "application/vnd.google.colaboratory.intrinsic+json": {
              "type": "string"
            }
          },
          "metadata": {},
          "execution_count": 44
        }
      ]
    },
    {
      "cell_type": "code",
      "source": [],
      "metadata": {
        "id": "QRjAuguHcIkf"
      },
      "execution_count": null,
      "outputs": []
    }
  ]
}